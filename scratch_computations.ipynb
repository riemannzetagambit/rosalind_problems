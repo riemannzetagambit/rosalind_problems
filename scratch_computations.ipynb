{
 "cells": [
  {
   "cell_type": "code",
   "execution_count": 23,
   "metadata": {},
   "outputs": [],
   "source": [
    "from collections import Counter"
   ]
  },
  {
   "cell_type": "code",
   "execution_count": 1,
   "metadata": {},
   "outputs": [],
   "source": [
    "import rosalind_utils as ru"
   ]
  },
  {
   "cell_type": "code",
   "execution_count": 2,
   "metadata": {},
   "outputs": [],
   "source": [
    "dna_seq = ru.random_genetic_sequence(500)"
   ]
  },
  {
   "cell_type": "code",
   "execution_count": 3,
   "metadata": {},
   "outputs": [
    {
     "data": {
      "text/plain": [
       "'AATCGTGTGTTGTGGAAACCGTGTCCGCGCATTTTCTAAGTGTGGAAGCATTGTGCTATTTAGCTCTTAGAGCAGACATACGGCGAGGCGTCGGATCATCGCTTACAACCTTTGTTTGAATCCTACATGCTTCATCGTATAATGTAACGAAGATGACATAAAGCAGACAGACAAAGATTTTGGTCCTTTACACCGTGTAGGCTATATGGCGACAAACCTCAAGTGTCGTCCATGGCATCCTATGGATCATACAGGTCCGCTAGGAGGCGATTCAGCGCACTCTACTACGTACTAACTGCCCGACAAAGCATTACTAGCACGGCGTATCCCTTCAAGTTGTTGGTCGATATTCTCTGATTTAGTTGGCTTAGGATCCATGATTTATGGCCTATGATGCCGTTATTGTGTCTAAAAAGGATGTGTCGAAACGACTGGTGTGTTGCCGGAAGAAGCGTTGCGCGTCATAACATGTCGAACTACTGTTCATCGTATACCGCTTA'"
      ]
     },
     "execution_count": 3,
     "metadata": {},
     "output_type": "execute_result"
    }
   ],
   "source": [
    "dna_seq"
   ]
  },
  {
   "cell_type": "code",
   "execution_count": 43,
   "metadata": {},
   "outputs": [],
   "source": [
    "with open('./rosalind_gc.txt', 'r') as f:\n",
    "    lines = f.readlines()"
   ]
  },
  {
   "cell_type": "code",
   "execution_count": 45,
   "metadata": {},
   "outputs": [],
   "source": [
    "read_id_dict = {}\n",
    "lines = iter(lines)\n",
    "for line in lines:\n",
    "    if line.startswith('>'):\n",
    "        # read in pairs, read name, next line is read content\n",
    "        read_id = line.lstrip('>').strip()\n",
    "        read_id_dict[read_id] = next(lines).strip() # user iter above to use next() capability"
   ]
  },
  {
   "cell_type": "code",
   "execution_count": 52,
   "metadata": {},
   "outputs": [],
   "source": [
    "def get_gc_content(dna_seq):\n",
    "    nt_counts = dict(Counter(dna_seq).most_common())\n",
    "    return 100*(nt_counts.get('G', 0) + nt_counts.get('C', 0))/sum(nt_counts.values())"
   ]
  },
  {
   "cell_type": "code",
   "execution_count": 53,
   "metadata": {},
   "outputs": [],
   "source": [
    "def alt_get_gc_content(dna_seq):\n",
    "    return 100*sum(1 for x in dna_seq if x == 'G' or x == 'C')/len(dna_seq)"
   ]
  },
  {
   "cell_type": "code",
   "execution_count": 63,
   "metadata": {},
   "outputs": [
    {
     "name": "stdout",
     "output_type": "stream",
     "text": [
      "27.1 µs ± 642 ns per loop (mean ± std. dev. of 7 runs, 10000 loops each)\n"
     ]
    }
   ],
   "source": [
    "%%timeit\n",
    "get_gc_content(dna_seq)"
   ]
  },
  {
   "cell_type": "code",
   "execution_count": 64,
   "metadata": {},
   "outputs": [
    {
     "name": "stdout",
     "output_type": "stream",
     "text": [
      "41.3 µs ± 245 ns per loop (mean ± std. dev. of 7 runs, 10000 loops each)\n"
     ]
    }
   ],
   "source": [
    "%%timeit\n",
    "alt_get_gc_content(dna_seq)"
   ]
  },
  {
   "cell_type": "code",
   "execution_count": 57,
   "metadata": {},
   "outputs": [
    {
     "data": {
      "text/plain": [
       "{'Rosalind_0808': 60.91954022988506,\n",
       " 'Rosalind_5959': 53.57142857142857,\n",
       " 'Rosalind_6404': 53.75}"
      ]
     },
     "execution_count": 57,
     "metadata": {},
     "output_type": "execute_result"
    }
   ],
   "source": [
    "{k: get_gc_content(v) for k, v in read_id_dict.items()}"
   ]
  },
  {
   "cell_type": "code",
   "execution_count": 62,
   "metadata": {},
   "outputs": [
    {
     "data": {
      "text/plain": [
       "60.91954022988506"
      ]
     },
     "execution_count": 62,
     "metadata": {},
     "output_type": "execute_result"
    }
   ],
   "source": [
    "max_read_id = max(read_id_dict, key=lambda x: get_gc_content(read_id_dict[x]))\n",
    "get_gc_content(read_id_dict[max_read_id])"
   ]
  },
  {
   "cell_type": "code",
   "execution_count": null,
   "metadata": {},
   "outputs": [],
   "source": []
  }
 ],
 "metadata": {
  "kernelspec": {
   "display_name": "Python 3",
   "language": "python",
   "name": "python3"
  },
  "language_info": {
   "codemirror_mode": {
    "name": "ipython",
    "version": 3
   },
   "file_extension": ".py",
   "mimetype": "text/x-python",
   "name": "python",
   "nbconvert_exporter": "python",
   "pygments_lexer": "ipython3",
   "version": "3.6.3"
  }
 },
 "nbformat": 4,
 "nbformat_minor": 2
}
