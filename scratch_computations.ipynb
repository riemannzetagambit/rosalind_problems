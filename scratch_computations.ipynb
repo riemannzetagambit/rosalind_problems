{
 "cells": [
  {
   "cell_type": "markdown",
   "metadata": {},
   "source": [
    "# rosalind_splc"
   ]
  },
  {
   "cell_type": "code",
   "execution_count": 1,
   "metadata": {},
   "outputs": [],
   "source": [
    "import re"
   ]
  },
  {
   "cell_type": "code",
   "execution_count": 2,
   "metadata": {},
   "outputs": [],
   "source": [
    "import rosalind_utils as ru"
   ]
  },
  {
   "cell_type": "code",
   "execution_count": 4,
   "metadata": {},
   "outputs": [],
   "source": [
    "seq = 'ATGGACTGCCATTATCTGTCCCATCCGGGTCTGCACAGTACGAAGTGCCCTACAATCCACGTCGTAAATTTCATCGCCACTGGTTCTAGAATGCTCATTTGTTATCAATACGGTGACCAATGTAGACCGCGAAATTTCTGTCGTAACGACTTCGCGTGTATAAACGGGCCTGGCGCACTCGGACTCTTTAAGTGGGCGGATTATGAGGGTGAGAGCTCGCGGCGGCTATGCTCGAGACGTGGCGGAGTCCGCCGGATGCAAGTTCGCAGGGAAGCAACTTTGCTATCACCCTGGATTACAAAGTCGGATGTCAGTCGGCTGGAATCAAGGAGATCATCGCCACAATTCCTACGTAGCATTACGATGGAAACAATACTGGTCCAAGTTGAACCTTGGATCTGCTCACTCCACGTTTGGTATCCACGTCGGCTACGACGGTGGCCTCTACCGGAATTGTGCGTCATCCTATTTCGTACTAAGACAGACATTGGGAAACGATCGATTATATTGTACAGAGGTGCGGTCGAGTGGTGCTCGTGCACCCATGGTCCTCTAGCGCTATGGAGATGA'\n"
   ]
  },
  {
   "cell_type": "code",
   "execution_count": 10,
   "metadata": {},
   "outputs": [
    {
     "name": "stdout",
     "output_type": "stream",
     "text": [
      "0\n",
      "1\n"
     ]
    }
   ],
   "source": [
    "for i in range(2):\n",
    "    print(i)"
   ]
  },
  {
   "cell_type": "code",
   "execution_count": 8,
   "metadata": {},
   "outputs": [
    {
     "name": "stdout",
     "output_type": "stream",
     "text": [
      "MDCHYLSHPGLHSTKCPTIHVVNFIATGSRMLICYQYGDQCRPRNFCRNDFACINGPGALGLFKWADYEGESSRRLCSRRGGVRRMQVRREATLLSPWITKSDVSRLESRRSSPQFLRSITMETILVQVEPWICSLHVWYPRRLRRWPLPELCVILFRTKTDIGKRSIILYRGAVEWCSCTHGPLALWRStop\n",
      "\n",
      "\n",
      "WTAIICPIRVCTVRSALQSTSStopISSPLVLECSFVINTVTNVDREISVVTTSRVStopTGLAHSDSLSGRIMRVRARGGYARDVAESAGCKFAGKQLCYHPGLQSRMSVGWNQGDHRHNSYVALRWKQYWSKLNLGSAHSTFGIHVGYDGGLYRNCASSYFVLRQTLGNDRLYCTEVRSSGARAPMVLStopRYGD\n",
      "\n",
      "\n",
      "GLPLSVPSGSAQYEVPYNPRRKFHRHWFStopNAHLLSIRStopPMStopTAKFLSStopRLRVYKRAWRTRTLStopVGGLStopGStopELAAAMLETWRSPPDASSQGSNFAITLDYKVGCQSAGIKEIIATIPTStopHYDGNNTGPSStopTLDLLTPRLVSTSATTVASTGIVRHPISYStopDRHWETIDYIVQRCGRVVLVHPWSSSAMEM\n",
      "\n",
      "\n"
     ]
    }
   ],
   "source": [
    "for trf in ru.get_translated_reads_frames(seq, include_reverse_complement=False):\n",
    "    print(trf)\n",
    "    print('\\n')"
   ]
  },
  {
   "cell_type": "markdown",
   "metadata": {},
   "source": [
    "# rosalind_gc"
   ]
  },
  {
   "cell_type": "code",
   "execution_count": 23,
   "metadata": {},
   "outputs": [],
   "source": [
    "from collections import Counter"
   ]
  },
  {
   "cell_type": "code",
   "execution_count": 1,
   "metadata": {},
   "outputs": [],
   "source": [
    "import rosalind_utils as ru"
   ]
  },
  {
   "cell_type": "code",
   "execution_count": 2,
   "metadata": {},
   "outputs": [],
   "source": [
    "dna_seq = ru.random_genetic_sequence(500)"
   ]
  },
  {
   "cell_type": "code",
   "execution_count": 3,
   "metadata": {},
   "outputs": [
    {
     "data": {
      "text/plain": [
       "'AATCGTGTGTTGTGGAAACCGTGTCCGCGCATTTTCTAAGTGTGGAAGCATTGTGCTATTTAGCTCTTAGAGCAGACATACGGCGAGGCGTCGGATCATCGCTTACAACCTTTGTTTGAATCCTACATGCTTCATCGTATAATGTAACGAAGATGACATAAAGCAGACAGACAAAGATTTTGGTCCTTTACACCGTGTAGGCTATATGGCGACAAACCTCAAGTGTCGTCCATGGCATCCTATGGATCATACAGGTCCGCTAGGAGGCGATTCAGCGCACTCTACTACGTACTAACTGCCCGACAAAGCATTACTAGCACGGCGTATCCCTTCAAGTTGTTGGTCGATATTCTCTGATTTAGTTGGCTTAGGATCCATGATTTATGGCCTATGATGCCGTTATTGTGTCTAAAAAGGATGTGTCGAAACGACTGGTGTGTTGCCGGAAGAAGCGTTGCGCGTCATAACATGTCGAACTACTGTTCATCGTATACCGCTTA'"
      ]
     },
     "execution_count": 3,
     "metadata": {},
     "output_type": "execute_result"
    }
   ],
   "source": [
    "dna_seq"
   ]
  },
  {
   "cell_type": "code",
   "execution_count": 43,
   "metadata": {},
   "outputs": [],
   "source": [
    "with open('./rosalind_gc.txt', 'r') as f:\n",
    "    lines = f.readlines()"
   ]
  },
  {
   "cell_type": "code",
   "execution_count": 45,
   "metadata": {},
   "outputs": [],
   "source": [
    "read_id_dict = {}\n",
    "lines = iter(lines)\n",
    "for line in lines:\n",
    "    if line.startswith('>'):\n",
    "        # read in pairs, read name, next line is read content\n",
    "        read_id = line.lstrip('>').strip()\n",
    "        read_id_dict[read_id] = next(lines).strip() # user iter above to use next() capability"
   ]
  },
  {
   "cell_type": "code",
   "execution_count": 52,
   "metadata": {},
   "outputs": [],
   "source": [
    "def get_gc_content(dna_seq):\n",
    "    nt_counts = dict(Counter(dna_seq).most_common())\n",
    "    return 100*(nt_counts.get('G', 0) + nt_counts.get('C', 0))/sum(nt_counts.values())"
   ]
  },
  {
   "cell_type": "code",
   "execution_count": 53,
   "metadata": {},
   "outputs": [],
   "source": [
    "def alt_get_gc_content(dna_seq):\n",
    "    return 100*sum(1 for x in dna_seq if x == 'G' or x == 'C')/len(dna_seq)"
   ]
  },
  {
   "cell_type": "code",
   "execution_count": 63,
   "metadata": {},
   "outputs": [
    {
     "name": "stdout",
     "output_type": "stream",
     "text": [
      "27.1 µs ± 642 ns per loop (mean ± std. dev. of 7 runs, 10000 loops each)\n"
     ]
    }
   ],
   "source": [
    "%%timeit\n",
    "get_gc_content(dna_seq)"
   ]
  },
  {
   "cell_type": "code",
   "execution_count": 64,
   "metadata": {},
   "outputs": [
    {
     "name": "stdout",
     "output_type": "stream",
     "text": [
      "41.3 µs ± 245 ns per loop (mean ± std. dev. of 7 runs, 10000 loops each)\n"
     ]
    }
   ],
   "source": [
    "%%timeit\n",
    "alt_get_gc_content(dna_seq)"
   ]
  },
  {
   "cell_type": "code",
   "execution_count": 57,
   "metadata": {},
   "outputs": [
    {
     "data": {
      "text/plain": [
       "{'Rosalind_0808': 60.91954022988506,\n",
       " 'Rosalind_5959': 53.57142857142857,\n",
       " 'Rosalind_6404': 53.75}"
      ]
     },
     "execution_count": 57,
     "metadata": {},
     "output_type": "execute_result"
    }
   ],
   "source": [
    "{k: get_gc_content(v) for k, v in read_id_dict.items()}"
   ]
  },
  {
   "cell_type": "code",
   "execution_count": 62,
   "metadata": {},
   "outputs": [
    {
     "data": {
      "text/plain": [
       "60.91954022988506"
      ]
     },
     "execution_count": 62,
     "metadata": {},
     "output_type": "execute_result"
    }
   ],
   "source": [
    "max_read_id = max(read_id_dict, key=lambda x: get_gc_content(read_id_dict[x]))\n",
    "get_gc_content(read_id_dict[max_read_id])"
   ]
  },
  {
   "cell_type": "markdown",
   "metadata": {},
   "source": [
    "# rosalind_long"
   ]
  },
  {
   "cell_type": "code",
   "execution_count": 2,
   "metadata": {},
   "outputs": [],
   "source": [
    "from math import ceil"
   ]
  },
  {
   "cell_type": "code",
   "execution_count": 4,
   "metadata": {},
   "outputs": [],
   "source": [
    "min_overlap = 0.5\n",
    "seq1 = 'ACGG'\n",
    "seq2 = 'GTACG'\n",
    "expected = 'GTACGG'\n",
    "short_seq, long_seq = sorted([seq1, seq2], key=lambda x: len(x))\n",
    "short_len = len(short_seq)\n",
    "min_overlap_len = ceil(min_overlap*short_len)"
   ]
  },
  {
   "cell_type": "code",
   "execution_count": 5,
   "metadata": {},
   "outputs": [],
   "source": [
    "for i in range(0, short_len - min_overlap_len + 1, 1):                                                     \n",
    "    if short_seq[i:] == long_seq[:short_len-i]:                                                            \n",
    "        print(i)                                                                                           \n",
    "    elif long_seq[i:] == short_seq[:short_len-i]:                                                          \n",
    "        print(i) "
   ]
  },
  {
   "cell_type": "code",
   "execution_count": 6,
   "metadata": {},
   "outputs": [
    {
     "name": "stdout",
     "output_type": "stream",
     "text": [
      "ACGG -> ACGG\n",
      "GTACG -> GTAC\n",
      "ACGG -> CGG\n",
      "GTACG -> GTA\n",
      "ACGG -> GG\n",
      "GTACG -> GT\n"
     ]
    }
   ],
   "source": [
    "for i in range(0, short_len - min_overlap_len + 1, 1):\n",
    "    print('{} -> {}'.format(short_seq, short_seq[i:]))\n",
    "    print('{} -> {}'.format(long_seq, long_seq[:short_len-i]))"
   ]
  },
  {
   "cell_type": "code",
   "execution_count": 12,
   "metadata": {},
   "outputs": [
    {
     "name": "stdout",
     "output_type": "stream",
     "text": [
      "GTACG -> ACG\n",
      "ACGG -> ACG\n",
      "-\n",
      "GTACG -> CG\n",
      "ACGG -> AC\n",
      "-\n",
      "GTACG -> G\n",
      "ACGG -> A\n",
      "-\n"
     ]
    }
   ],
   "source": [
    "for i in range(0, min_overlap_len + 1, 1):\n",
    "    print('{} -> {}'.format(long_seq, long_seq[short_len-min_overlap_len+i:]))\n",
    "    print('{} -> {}'.format(short_seq, short_seq[:min_overlap_len-i+1]))\n",
    "    print('-')"
   ]
  },
  {
   "cell_type": "code",
   "execution_count": 13,
   "metadata": {},
   "outputs": [],
   "source": [
    "i = 3"
   ]
  },
  {
   "cell_type": "code",
   "execution_count": 14,
   "metadata": {},
   "outputs": [
    {
     "data": {
      "text/plain": [
       "'GTACGG'"
      ]
     },
     "execution_count": 14,
     "metadata": {},
     "output_type": "execute_result"
    }
   ],
   "source": [
    "long_seq + short_seq[i:]"
   ]
  },
  {
   "cell_type": "code",
   "execution_count": 15,
   "metadata": {},
   "outputs": [
    {
     "data": {
      "text/plain": [
       "'G'"
      ]
     },
     "execution_count": 15,
     "metadata": {},
     "output_type": "execute_result"
    }
   ],
   "source": [
    "short_seq[i:]"
   ]
  },
  {
   "cell_type": "code",
   "execution_count": 16,
   "metadata": {},
   "outputs": [],
   "source": [
    "from itertools import combinations"
   ]
  },
  {
   "cell_type": "code",
   "execution_count": 17,
   "metadata": {},
   "outputs": [
    {
     "name": "stdout",
     "output_type": "stream",
     "text": [
      "('a', 'b')\n",
      "('a', 'c')\n",
      "('b', 'c')\n"
     ]
    }
   ],
   "source": [
    "for pair in combinations(['a', 'b', 'c'], 2):\n",
    "    print(pair)"
   ]
  },
  {
   "cell_type": "code",
   "execution_count": null,
   "metadata": {},
   "outputs": [],
   "source": []
  }
 ],
 "metadata": {
  "kernelspec": {
   "display_name": "Python 3",
   "language": "python",
   "name": "python3"
  },
  "language_info": {
   "codemirror_mode": {
    "name": "ipython",
    "version": 3
   },
   "file_extension": ".py",
   "mimetype": "text/x-python",
   "name": "python",
   "nbconvert_exporter": "python",
   "pygments_lexer": "ipython3",
   "version": "3.7.0"
  }
 },
 "nbformat": 4,
 "nbformat_minor": 2
}
